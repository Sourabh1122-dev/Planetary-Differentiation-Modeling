{
  "cells": [
    {
      "cell_type": "markdown",
      "metadata": {
        "id": "sYl_gJwhfaql"
      },
      "source": [
        "# System 1"
      ]
    },
    {
      "cell_type": "code",
      "execution_count": null,
      "metadata": {
        "id": "UEjXeUsNd1id"
      },
      "outputs": [],
      "source": [
        "import numpy as np\n",
        "import pandas as pd\n",
        "import tensorflow as tf\n",
        "import matplotlib.pyplot as plt\n",
        "\n",
        "import keras\n",
        "from keras.models import Sequential\n",
        "from keras.layers import Dense\n",
        "\n",
        "import sklearn\n",
        "from sklearn.preprocessing import StandardScaler\n",
        "from sklearn.metrics import r2_score\n",
        "from keras.regularizers import l2\n",
        "from keras.layers import Dropout\n",
        "\n",
        "import math"
      ]
    },
    {
      "cell_type": "code",
      "execution_count": null,
      "metadata": {
        "colab": {
          "base_uri": "https://localhost:8080/",
          "height": 206
        },
        "id": "THIXtouseK9Z",
        "outputId": "a93fe02d-ed91-4a8a-f56a-80700aed9940"
      },
      "outputs": [
        {
          "data": {
            "text/html": [
              "<div>\n",
              "<style scoped>\n",
              "    .dataframe tbody tr th:only-of-type {\n",
              "        vertical-align: middle;\n",
              "    }\n",
              "\n",
              "    .dataframe tbody tr th {\n",
              "        vertical-align: top;\n",
              "    }\n",
              "\n",
              "    .dataframe thead th {\n",
              "        text-align: right;\n",
              "    }\n",
              "</style>\n",
              "<table border=\"1\" class=\"dataframe\">\n",
              "  <thead>\n",
              "    <tr style=\"text-align: right;\">\n",
              "      <th></th>\n",
              "      <th>a1</th>\n",
              "      <th>b</th>\n",
              "      <th>c</th>\n",
              "      <th>a2</th>\n",
              "      <th>a3</th>\n",
              "      <th>E</th>\n",
              "    </tr>\n",
              "  </thead>\n",
              "  <tbody>\n",
              "    <tr>\n",
              "      <th>0</th>\n",
              "      <td>0.964748615704</td>\n",
              "      <td>0.000000057208</td>\n",
              "      <td>0.000572082380</td>\n",
              "      <td>0.000000000000</td>\n",
              "      <td>0.000000000000</td>\n",
              "      <td>1.038461538462</td>\n",
              "    </tr>\n",
              "    <tr>\n",
              "      <th>1</th>\n",
              "      <td>0.945597498016</td>\n",
              "      <td>0.000000057703</td>\n",
              "      <td>0.000577034045</td>\n",
              "      <td>0.000000000000</td>\n",
              "      <td>0.000000000000</td>\n",
              "      <td>1.045507584597</td>\n",
              "    </tr>\n",
              "    <tr>\n",
              "      <th>2</th>\n",
              "      <td>0.930814419855</td>\n",
              "      <td>0.000000058377</td>\n",
              "      <td>0.000583771162</td>\n",
              "      <td>0.000000000000</td>\n",
              "      <td>0.000000000000</td>\n",
              "      <td>1.041714947856</td>\n",
              "    </tr>\n",
              "    <tr>\n",
              "      <th>3</th>\n",
              "      <td>0.877973183178</td>\n",
              "      <td>0.000000059067</td>\n",
              "      <td>0.000590667454</td>\n",
              "      <td>0.000000000000</td>\n",
              "      <td>0.000000000000</td>\n",
              "      <td>1.067216981132</td>\n",
              "    </tr>\n",
              "    <tr>\n",
              "      <th>4</th>\n",
              "      <td>0.939000057514</td>\n",
              "      <td>0.000000058038</td>\n",
              "      <td>0.000580383053</td>\n",
              "      <td>0.000000000000</td>\n",
              "      <td>0.000000000000</td>\n",
              "      <td>1.057210965435</td>\n",
              "    </tr>\n",
              "  </tbody>\n",
              "</table>\n",
              "</div>"
            ],
            "text/plain": [
              "              a1              b              c             a2             a3  \\\n",
              "0 0.964748615704 0.000000057208 0.000572082380 0.000000000000 0.000000000000   \n",
              "1 0.945597498016 0.000000057703 0.000577034045 0.000000000000 0.000000000000   \n",
              "2 0.930814419855 0.000000058377 0.000583771162 0.000000000000 0.000000000000   \n",
              "3 0.877973183178 0.000000059067 0.000590667454 0.000000000000 0.000000000000   \n",
              "4 0.939000057514 0.000000058038 0.000580383053 0.000000000000 0.000000000000   \n",
              "\n",
              "               E  \n",
              "0 1.038461538462  \n",
              "1 1.045507584597  \n",
              "2 1.041714947856  \n",
              "3 1.067216981132  \n",
              "4 1.057210965435  "
            ]
          },
          "execution_count": 10,
          "metadata": {},
          "output_type": "execute_result"
        }
      ],
      "source": [
        "df = pd.read_excel(\"Combined D2.xlsx\")\n",
        "#df = df.rename(columns=df.iloc[0]).drop(df.index[0])\n",
        "df.head()\n",
        "\n",
        "pd.options.display.float_format = '{:,.12f}'.format\n",
        "df = df.astype(float)\n",
        "df.head()"
      ]
    },
    {
      "cell_type": "code",
      "execution_count": null,
      "metadata": {
        "colab": {
          "base_uri": "https://localhost:8080/",
          "height": 206
        },
        "id": "TECJt_3TePj5",
        "outputId": "8694bd87-9863-47a2-d01e-52f441ba8482"
      },
      "outputs": [
        {
          "data": {
            "text/html": [
              "<div>\n",
              "<style scoped>\n",
              "    .dataframe tbody tr th:only-of-type {\n",
              "        vertical-align: middle;\n",
              "    }\n",
              "\n",
              "    .dataframe tbody tr th {\n",
              "        vertical-align: top;\n",
              "    }\n",
              "\n",
              "    .dataframe thead th {\n",
              "        text-align: right;\n",
              "    }\n",
              "</style>\n",
              "<table border=\"1\" class=\"dataframe\">\n",
              "  <thead>\n",
              "    <tr style=\"text-align: right;\">\n",
              "      <th></th>\n",
              "      <th>a1</th>\n",
              "      <th>b</th>\n",
              "      <th>c</th>\n",
              "      <th>a2</th>\n",
              "      <th>a3</th>\n",
              "    </tr>\n",
              "  </thead>\n",
              "  <tbody>\n",
              "    <tr>\n",
              "      <th>0</th>\n",
              "      <td>0.964748615704</td>\n",
              "      <td>0.000000057208</td>\n",
              "      <td>0.000572082380</td>\n",
              "      <td>0.000000000000</td>\n",
              "      <td>0.000000000000</td>\n",
              "    </tr>\n",
              "    <tr>\n",
              "      <th>1</th>\n",
              "      <td>0.945597498016</td>\n",
              "      <td>0.000000057703</td>\n",
              "      <td>0.000577034045</td>\n",
              "      <td>0.000000000000</td>\n",
              "      <td>0.000000000000</td>\n",
              "    </tr>\n",
              "    <tr>\n",
              "      <th>2</th>\n",
              "      <td>0.930814419855</td>\n",
              "      <td>0.000000058377</td>\n",
              "      <td>0.000583771162</td>\n",
              "      <td>0.000000000000</td>\n",
              "      <td>0.000000000000</td>\n",
              "    </tr>\n",
              "    <tr>\n",
              "      <th>3</th>\n",
              "      <td>0.877973183178</td>\n",
              "      <td>0.000000059067</td>\n",
              "      <td>0.000590667454</td>\n",
              "      <td>0.000000000000</td>\n",
              "      <td>0.000000000000</td>\n",
              "    </tr>\n",
              "    <tr>\n",
              "      <th>4</th>\n",
              "      <td>0.939000057514</td>\n",
              "      <td>0.000000058038</td>\n",
              "      <td>0.000580383053</td>\n",
              "      <td>0.000000000000</td>\n",
              "      <td>0.000000000000</td>\n",
              "    </tr>\n",
              "  </tbody>\n",
              "</table>\n",
              "</div>"
            ],
            "text/plain": [
              "              a1              b              c             a2             a3\n",
              "0 0.964748615704 0.000000057208 0.000572082380 0.000000000000 0.000000000000\n",
              "1 0.945597498016 0.000000057703 0.000577034045 0.000000000000 0.000000000000\n",
              "2 0.930814419855 0.000000058377 0.000583771162 0.000000000000 0.000000000000\n",
              "3 0.877973183178 0.000000059067 0.000590667454 0.000000000000 0.000000000000\n",
              "4 0.939000057514 0.000000058038 0.000580383053 0.000000000000 0.000000000000"
            ]
          },
          "execution_count": 14,
          "metadata": {},
          "output_type": "execute_result"
        }
      ],
      "source": [
        "x = df.iloc[:, 0:5]\n",
        "y = df.iloc[:, -1]\n",
        "x.head()\n",
        "# y.head()"
      ]
    },
    {
      "cell_type": "code",
      "execution_count": null,
      "metadata": {
        "id": "MDE_SKA1ejz0"
      },
      "outputs": [],
      "source": [
        "from sklearn.model_selection import train_test_split\n",
        "x_train, x_test, y_train, y_test = train_test_split(x_scaled, y, train_size=0.8, random_state=43)"
      ]
    },
    {
      "cell_type": "code",
      "execution_count": null,
      "metadata": {
        "id": "NuWXw7YKerlE",
        "outputId": "39471605-5803-4ece-b348-fd273c0bb1b9"
      },
      "outputs": [
        {
          "name": "stderr",
          "output_type": "stream",
          "text": [
            "2023-01-22 18:26:18.422399: I tensorflow/compiler/xla/stream_executor/cuda/cuda_gpu_executor.cc:981] successful NUMA node read from SysFS had negative value (-1), but there must be at least one NUMA node, so returning NUMA node zero\n",
            "2023-01-22 18:26:18.423851: W tensorflow/compiler/xla/stream_executor/platform/default/dso_loader.cc:64] Could not load dynamic library 'libcudart.so.11.0'; dlerror: libcudart.so.11.0: cannot open shared object file: No such file or directory; LD_LIBRARY_PATH: /home/trish/drone_ws/devel/lib:/opt/ros/noetic/lib:/opt/ros/noetic/lib/x86_64-linux-gnu:/usr/lib/x86_64-linux-gnu/gazebo-11/plugins\n",
            "2023-01-22 18:26:18.425153: W tensorflow/compiler/xla/stream_executor/platform/default/dso_loader.cc:64] Could not load dynamic library 'libcublas.so.11'; dlerror: libcublas.so.11: cannot open shared object file: No such file or directory; LD_LIBRARY_PATH: /home/trish/drone_ws/devel/lib:/opt/ros/noetic/lib:/opt/ros/noetic/lib/x86_64-linux-gnu:/usr/lib/x86_64-linux-gnu/gazebo-11/plugins\n",
            "2023-01-22 18:26:18.425567: W tensorflow/compiler/xla/stream_executor/platform/default/dso_loader.cc:64] Could not load dynamic library 'libcublasLt.so.11'; dlerror: libcublasLt.so.11: cannot open shared object file: No such file or directory; LD_LIBRARY_PATH: /home/trish/drone_ws/devel/lib:/opt/ros/noetic/lib:/opt/ros/noetic/lib/x86_64-linux-gnu:/usr/lib/x86_64-linux-gnu/gazebo-11/plugins\n",
            "2023-01-22 18:26:18.426088: W tensorflow/compiler/xla/stream_executor/platform/default/dso_loader.cc:64] Could not load dynamic library 'libcufft.so.10'; dlerror: libcufft.so.10: cannot open shared object file: No such file or directory; LD_LIBRARY_PATH: /home/trish/drone_ws/devel/lib:/opt/ros/noetic/lib:/opt/ros/noetic/lib/x86_64-linux-gnu:/usr/lib/x86_64-linux-gnu/gazebo-11/plugins\n",
            "2023-01-22 18:26:18.426609: W tensorflow/compiler/xla/stream_executor/platform/default/dso_loader.cc:64] Could not load dynamic library 'libcurand.so.10'; dlerror: libcurand.so.10: cannot open shared object file: No such file or directory; LD_LIBRARY_PATH: /home/trish/drone_ws/devel/lib:/opt/ros/noetic/lib:/opt/ros/noetic/lib/x86_64-linux-gnu:/usr/lib/x86_64-linux-gnu/gazebo-11/plugins\n",
            "2023-01-22 18:26:18.427206: W tensorflow/compiler/xla/stream_executor/platform/default/dso_loader.cc:64] Could not load dynamic library 'libcusolver.so.11'; dlerror: libcusolver.so.11: cannot open shared object file: No such file or directory; LD_LIBRARY_PATH: /home/trish/drone_ws/devel/lib:/opt/ros/noetic/lib:/opt/ros/noetic/lib/x86_64-linux-gnu:/usr/lib/x86_64-linux-gnu/gazebo-11/plugins\n",
            "2023-01-22 18:26:18.427701: W tensorflow/compiler/xla/stream_executor/platform/default/dso_loader.cc:64] Could not load dynamic library 'libcusparse.so.11'; dlerror: libcusparse.so.11: cannot open shared object file: No such file or directory; LD_LIBRARY_PATH: /home/trish/drone_ws/devel/lib:/opt/ros/noetic/lib:/opt/ros/noetic/lib/x86_64-linux-gnu:/usr/lib/x86_64-linux-gnu/gazebo-11/plugins\n",
            "2023-01-22 18:26:18.428073: W tensorflow/compiler/xla/stream_executor/platform/default/dso_loader.cc:64] Could not load dynamic library 'libcudnn.so.8'; dlerror: libcudnn.so.8: cannot open shared object file: No such file or directory; LD_LIBRARY_PATH: /home/trish/drone_ws/devel/lib:/opt/ros/noetic/lib:/opt/ros/noetic/lib/x86_64-linux-gnu:/usr/lib/x86_64-linux-gnu/gazebo-11/plugins\n",
            "2023-01-22 18:26:18.428109: W tensorflow/core/common_runtime/gpu/gpu_device.cc:1934] Cannot dlopen some GPU libraries. Please make sure the missing libraries mentioned above are installed properly if you would like to use GPU. Follow the guide at https://www.tensorflow.org/install/gpu for how to download and setup the required libraries for your platform.\n",
            "Skipping registering GPU devices...\n",
            "2023-01-22 18:26:18.429183: I tensorflow/core/platform/cpu_feature_guard.cc:193] This TensorFlow binary is optimized with oneAPI Deep Neural Network Library (oneDNN) to use the following CPU instructions in performance-critical operations:  AVX2 FMA\n",
            "To enable them in other operations, rebuild TensorFlow with the appropriate compiler flags.\n"
          ]
        }
      ],
      "source": [
        "\n",
        "reg = Sequential()\n",
        "\n",
        "op = tf.keras.optimizers.Adam(learning_rate=0.001)"
      ]
    },
    {
      "cell_type": "code",
      "execution_count": null,
      "metadata": {
        "id": "2_KJwxUVe0Xm"
      },
      "outputs": [],
      "source": [
        "reg.add(Dense(units=5, input_dim=5,  activation = 'relu'))\n",
        "#reg.add(Dropout(0.2))\n",
        "reg.add(Dense(units=3,  activation = 'relu'))\n",
        "#reg.add(Dense(units=3,  activation = 'tanh', kernel_regularizer=l2(0.01), bias_regularizer=l2(0.01)))\n",
        "reg.add(Dense(units=1,  activation = 'linear'))\n",
        "reg.compile(optimizer= op ,loss='mse', metrics=['MAE'])"
      ]
    },
    {
      "cell_type": "code",
      "execution_count": null,
      "metadata": {
        "colab": {
          "base_uri": "https://localhost:8080/"
        },
        "id": "JnGpsJrRe3NF",
        "outputId": "6e0fe06a-fdf6-465b-d0d5-539ffcc54f02"
      },
      "outputs": [
        {
          "name": "stdout",
          "output_type": "stream",
          "text": [
            "Epoch 1/200\n",
            "53/53 [==============================] - 1s 4ms/step - loss: 0.7821 - MAE: 0.8206 - val_loss: 0.6816 - val_MAE: 0.7865\n",
            "Epoch 2/200\n",
            "53/53 [==============================] - 0s 2ms/step - loss: 0.5208 - MAE: 0.6648 - val_loss: 0.4396 - val_MAE: 0.6317\n",
            "Epoch 3/200\n",
            "53/53 [==============================] - 0s 2ms/step - loss: 0.3358 - MAE: 0.5285 - val_loss: 0.2898 - val_MAE: 0.4993\n",
            "Epoch 4/200\n",
            "53/53 [==============================] - 0s 2ms/step - loss: 0.2233 - MAE: 0.4201 - val_loss: 0.1937 - val_MAE: 0.3968\n",
            "Epoch 5/200\n",
            "53/53 [==============================] - 0s 2ms/step - loss: 0.1569 - MAE: 0.3302 - val_loss: 0.1330 - val_MAE: 0.3210\n",
            "Epoch 6/200\n",
            "53/53 [==============================] - 0s 2ms/step - loss: 0.1166 - MAE: 0.2618 - val_loss: 0.1014 - val_MAE: 0.2619\n",
            "Epoch 7/200\n",
            "53/53 [==============================] - 0s 2ms/step - loss: 0.0948 - MAE: 0.2145 - val_loss: 0.0818 - val_MAE: 0.2141\n",
            "Epoch 8/200\n",
            "53/53 [==============================] - 0s 2ms/step - loss: 0.0832 - MAE: 0.1873 - val_loss: 0.0690 - val_MAE: 0.1861\n",
            "Epoch 9/200\n",
            "53/53 [==============================] - 0s 2ms/step - loss: 0.0761 - MAE: 0.1746 - val_loss: 0.0620 - val_MAE: 0.1678\n",
            "Epoch 10/200\n",
            "53/53 [==============================] - 0s 3ms/step - loss: 0.0717 - MAE: 0.1691 - val_loss: 0.0558 - val_MAE: 0.1543\n",
            "Epoch 11/200\n",
            "53/53 [==============================] - 0s 2ms/step - loss: 0.0683 - MAE: 0.1669 - val_loss: 0.0504 - val_MAE: 0.1452\n",
            "Epoch 12/200\n",
            "53/53 [==============================] - 0s 2ms/step - loss: 0.0655 - MAE: 0.1605 - val_loss: 0.0478 - val_MAE: 0.1398\n",
            "Epoch 13/200\n",
            "53/53 [==============================] - 0s 2ms/step - loss: 0.0627 - MAE: 0.1579 - val_loss: 0.0452 - val_MAE: 0.1362\n",
            "Epoch 14/200\n",
            "53/53 [==============================] - 0s 2ms/step - loss: 0.0605 - MAE: 0.1575 - val_loss: 0.0402 - val_MAE: 0.1301\n",
            "Epoch 15/200\n",
            "53/53 [==============================] - 0s 2ms/step - loss: 0.0570 - MAE: 0.1513 - val_loss: 0.0387 - val_MAE: 0.1244\n",
            "Epoch 16/200\n",
            "53/53 [==============================] - 0s 2ms/step - loss: 0.0549 - MAE: 0.1484 - val_loss: 0.0362 - val_MAE: 0.1209\n",
            "Epoch 17/200\n",
            "53/53 [==============================] - 0s 2ms/step - loss: 0.0534 - MAE: 0.1470 - val_loss: 0.0338 - val_MAE: 0.1164\n",
            "Epoch 18/200\n",
            "53/53 [==============================] - 0s 2ms/step - loss: 0.0504 - MAE: 0.1428 - val_loss: 0.0328 - val_MAE: 0.1127\n",
            "Epoch 19/200\n",
            "53/53 [==============================] - 0s 2ms/step - loss: 0.0486 - MAE: 0.1416 - val_loss: 0.0305 - val_MAE: 0.1090\n",
            "Epoch 20/200\n",
            "53/53 [==============================] - 0s 2ms/step - loss: 0.0467 - MAE: 0.1373 - val_loss: 0.0287 - val_MAE: 0.1047\n",
            "Epoch 21/200\n",
            "53/53 [==============================] - 0s 2ms/step - loss: 0.0449 - MAE: 0.1362 - val_loss: 0.0269 - val_MAE: 0.1013\n",
            "Epoch 22/200\n",
            "53/53 [==============================] - 0s 2ms/step - loss: 0.0433 - MAE: 0.1343 - val_loss: 0.0249 - val_MAE: 0.0982\n",
            "Epoch 23/200\n",
            "53/53 [==============================] - 0s 2ms/step - loss: 0.0418 - MAE: 0.1311 - val_loss: 0.0255 - val_MAE: 0.0981\n",
            "Epoch 24/200\n",
            "53/53 [==============================] - 0s 2ms/step - loss: 0.0401 - MAE: 0.1301 - val_loss: 0.0229 - val_MAE: 0.0938\n",
            "Epoch 25/200\n",
            "53/53 [==============================] - 0s 2ms/step - loss: 0.0385 - MAE: 0.1287 - val_loss: 0.0209 - val_MAE: 0.0933\n",
            "Epoch 26/200\n",
            "53/53 [==============================] - 0s 2ms/step - loss: 0.0367 - MAE: 0.1246 - val_loss: 0.0192 - val_MAE: 0.0877\n",
            "Epoch 27/200\n",
            "53/53 [==============================] - 0s 2ms/step - loss: 0.0351 - MAE: 0.1245 - val_loss: 0.0192 - val_MAE: 0.0847\n",
            "Epoch 28/200\n",
            "53/53 [==============================] - 0s 2ms/step - loss: 0.0339 - MAE: 0.1206 - val_loss: 0.0175 - val_MAE: 0.0860\n",
            "Epoch 29/200\n",
            "53/53 [==============================] - 0s 2ms/step - loss: 0.0328 - MAE: 0.1182 - val_loss: 0.0175 - val_MAE: 0.0813\n",
            "Epoch 30/200\n",
            "53/53 [==============================] - 0s 2ms/step - loss: 0.0311 - MAE: 0.1156 - val_loss: 0.0159 - val_MAE: 0.0782\n",
            "Epoch 31/200\n",
            "53/53 [==============================] - 0s 2ms/step - loss: 0.0310 - MAE: 0.1164 - val_loss: 0.0147 - val_MAE: 0.0750\n",
            "Epoch 32/200\n",
            "53/53 [==============================] - 0s 2ms/step - loss: 0.0298 - MAE: 0.1160 - val_loss: 0.0143 - val_MAE: 0.0750\n",
            "Epoch 33/200\n",
            "53/53 [==============================] - 0s 2ms/step - loss: 0.0281 - MAE: 0.1125 - val_loss: 0.0130 - val_MAE: 0.0728\n",
            "Epoch 34/200\n",
            "53/53 [==============================] - 0s 2ms/step - loss: 0.0265 - MAE: 0.1085 - val_loss: 0.0134 - val_MAE: 0.0712\n",
            "Epoch 35/200\n",
            "53/53 [==============================] - 0s 2ms/step - loss: 0.0253 - MAE: 0.1057 - val_loss: 0.0117 - val_MAE: 0.0678\n",
            "Epoch 36/200\n",
            "53/53 [==============================] - 0s 2ms/step - loss: 0.0245 - MAE: 0.1041 - val_loss: 0.0106 - val_MAE: 0.0639\n",
            "Epoch 37/200\n",
            "53/53 [==============================] - 0s 2ms/step - loss: 0.0236 - MAE: 0.1026 - val_loss: 0.0103 - val_MAE: 0.0627\n",
            "Epoch 38/200\n",
            "53/53 [==============================] - 0s 2ms/step - loss: 0.0224 - MAE: 0.1007 - val_loss: 0.0093 - val_MAE: 0.0641\n",
            "Epoch 39/200\n",
            "53/53 [==============================] - 0s 2ms/step - loss: 0.0212 - MAE: 0.0965 - val_loss: 0.0083 - val_MAE: 0.0581\n",
            "Epoch 40/200\n",
            "53/53 [==============================] - 0s 2ms/step - loss: 0.0211 - MAE: 0.0974 - val_loss: 0.0076 - val_MAE: 0.0580\n",
            "Epoch 41/200\n",
            "53/53 [==============================] - 0s 2ms/step - loss: 0.0194 - MAE: 0.0949 - val_loss: 0.0079 - val_MAE: 0.0562\n",
            "Epoch 42/200\n",
            "53/53 [==============================] - 0s 2ms/step - loss: 0.0187 - MAE: 0.0922 - val_loss: 0.0078 - val_MAE: 0.0546\n",
            "Epoch 43/200\n",
            "53/53 [==============================] - 0s 2ms/step - loss: 0.0181 - MAE: 0.0912 - val_loss: 0.0067 - val_MAE: 0.0541\n",
            "Epoch 44/200\n",
            "53/53 [==============================] - 0s 2ms/step - loss: 0.0173 - MAE: 0.0892 - val_loss: 0.0062 - val_MAE: 0.0491\n",
            "Epoch 45/200\n",
            "53/53 [==============================] - 0s 2ms/step - loss: 0.0163 - MAE: 0.0856 - val_loss: 0.0062 - val_MAE: 0.0517\n",
            "Epoch 46/200\n",
            "53/53 [==============================] - 0s 2ms/step - loss: 0.0158 - MAE: 0.0853 - val_loss: 0.0048 - val_MAE: 0.0493\n",
            "Epoch 47/200\n",
            "53/53 [==============================] - 0s 2ms/step - loss: 0.0152 - MAE: 0.0821 - val_loss: 0.0051 - val_MAE: 0.0505\n",
            "Epoch 48/200\n",
            "53/53 [==============================] - 0s 2ms/step - loss: 0.0144 - MAE: 0.0811 - val_loss: 0.0043 - val_MAE: 0.0435\n",
            "Epoch 49/200\n",
            "53/53 [==============================] - 0s 2ms/step - loss: 0.0137 - MAE: 0.0791 - val_loss: 0.0040 - val_MAE: 0.0417\n",
            "Epoch 50/200\n",
            "53/53 [==============================] - 0s 2ms/step - loss: 0.0131 - MAE: 0.0777 - val_loss: 0.0044 - val_MAE: 0.0447\n",
            "Epoch 51/200\n",
            "53/53 [==============================] - 0s 2ms/step - loss: 0.0125 - MAE: 0.0751 - val_loss: 0.0037 - val_MAE: 0.0407\n",
            "Epoch 52/200\n",
            "53/53 [==============================] - 0s 1ms/step - loss: 0.0121 - MAE: 0.0740 - val_loss: 0.0036 - val_MAE: 0.0420\n",
            "Epoch 53/200\n",
            "53/53 [==============================] - 0s 2ms/step - loss: 0.0113 - MAE: 0.0736 - val_loss: 0.0026 - val_MAE: 0.0351\n",
            "Epoch 54/200\n",
            "53/53 [==============================] - 0s 2ms/step - loss: 0.0109 - MAE: 0.0705 - val_loss: 0.0022 - val_MAE: 0.0325\n",
            "Epoch 55/200\n",
            "53/53 [==============================] - 0s 2ms/step - loss: 0.0104 - MAE: 0.0695 - val_loss: 0.0019 - val_MAE: 0.0303\n",
            "Epoch 56/200\n",
            "53/53 [==============================] - 0s 2ms/step - loss: 0.0102 - MAE: 0.0680 - val_loss: 0.0018 - val_MAE: 0.0285\n",
            "Epoch 57/200\n",
            "53/53 [==============================] - 0s 2ms/step - loss: 0.0098 - MAE: 0.0687 - val_loss: 0.0021 - val_MAE: 0.0331\n",
            "Epoch 58/200\n",
            "53/53 [==============================] - 0s 2ms/step - loss: 0.0092 - MAE: 0.0669 - val_loss: 0.0018 - val_MAE: 0.0326\n",
            "Epoch 59/200\n",
            "53/53 [==============================] - 0s 2ms/step - loss: 0.0090 - MAE: 0.0654 - val_loss: 0.0014 - val_MAE: 0.0275\n",
            "Epoch 60/200\n",
            "53/53 [==============================] - 0s 2ms/step - loss: 0.0086 - MAE: 0.0637 - val_loss: 0.0018 - val_MAE: 0.0367\n",
            "Epoch 61/200\n",
            "53/53 [==============================] - 0s 2ms/step - loss: 0.0083 - MAE: 0.0621 - val_loss: 0.0018 - val_MAE: 0.0345\n",
            "Epoch 62/200\n",
            "53/53 [==============================] - 0s 2ms/step - loss: 0.0078 - MAE: 0.0608 - val_loss: 0.0012 - val_MAE: 0.0282\n",
            "Epoch 63/200\n",
            "53/53 [==============================] - 0s 2ms/step - loss: 0.0078 - MAE: 0.0623 - val_loss: 0.0016 - val_MAE: 0.0344\n",
            "Epoch 64/200\n",
            "53/53 [==============================] - 0s 2ms/step - loss: 0.0075 - MAE: 0.0590 - val_loss: 0.0010 - val_MAE: 0.0258\n",
            "Epoch 65/200\n",
            "53/53 [==============================] - 0s 1ms/step - loss: 0.0071 - MAE: 0.0570 - val_loss: 9.2957e-04 - val_MAE: 0.0242\n",
            "Epoch 66/200\n",
            "53/53 [==============================] - 0s 2ms/step - loss: 0.0074 - MAE: 0.0597 - val_loss: 8.1735e-04 - val_MAE: 0.0215\n",
            "Epoch 67/200\n",
            "53/53 [==============================] - 0s 2ms/step - loss: 0.0070 - MAE: 0.0569 - val_loss: 0.0013 - val_MAE: 0.0295\n",
            "Epoch 68/200\n",
            "53/53 [==============================] - 0s 2ms/step - loss: 0.0065 - MAE: 0.0537 - val_loss: 8.9271e-04 - val_MAE: 0.0239\n",
            "Epoch 69/200\n",
            "53/53 [==============================] - 0s 2ms/step - loss: 0.0063 - MAE: 0.0520 - val_loss: 8.9233e-04 - val_MAE: 0.0224\n",
            "Epoch 70/200\n",
            "53/53 [==============================] - 0s 2ms/step - loss: 0.0061 - MAE: 0.0524 - val_loss: 8.6650e-04 - val_MAE: 0.0215\n",
            "Epoch 71/200\n",
            "53/53 [==============================] - 0s 2ms/step - loss: 0.0066 - MAE: 0.0571 - val_loss: 0.0016 - val_MAE: 0.0317\n",
            "Epoch 72/200\n",
            "53/53 [==============================] - 0s 2ms/step - loss: 0.0063 - MAE: 0.0550 - val_loss: 0.0013 - val_MAE: 0.0270\n",
            "Epoch 73/200\n",
            "53/53 [==============================] - 0s 2ms/step - loss: 0.0059 - MAE: 0.0510 - val_loss: 7.8192e-04 - val_MAE: 0.0221\n",
            "Epoch 74/200\n",
            "53/53 [==============================] - 0s 2ms/step - loss: 0.0061 - MAE: 0.0515 - val_loss: 8.0075e-04 - val_MAE: 0.0217\n",
            "Epoch 75/200\n",
            "53/53 [==============================] - 0s 2ms/step - loss: 0.0056 - MAE: 0.0484 - val_loss: 7.9828e-04 - val_MAE: 0.0217\n",
            "Epoch 76/200\n",
            "53/53 [==============================] - 0s 2ms/step - loss: 0.0057 - MAE: 0.0492 - val_loss: 9.3060e-04 - val_MAE: 0.0237\n",
            "Epoch 77/200\n",
            "53/53 [==============================] - 0s 2ms/step - loss: 0.0061 - MAE: 0.0495 - val_loss: 8.6314e-04 - val_MAE: 0.0217\n",
            "Epoch 78/200\n",
            "53/53 [==============================] - 0s 2ms/step - loss: 0.0054 - MAE: 0.0493 - val_loss: 0.0016 - val_MAE: 0.0325\n",
            "Epoch 79/200\n",
            "53/53 [==============================] - 0s 1ms/step - loss: 0.0053 - MAE: 0.0470 - val_loss: 0.0012 - val_MAE: 0.0272\n",
            "Epoch 80/200\n",
            "53/53 [==============================] - 0s 2ms/step - loss: 0.0055 - MAE: 0.0479 - val_loss: 0.0010 - val_MAE: 0.0257\n",
            "Epoch 81/200\n",
            "53/53 [==============================] - 0s 2ms/step - loss: 0.0057 - MAE: 0.0513 - val_loss: 9.9614e-04 - val_MAE: 0.0253\n",
            "Epoch 82/200\n",
            "53/53 [==============================] - 0s 2ms/step - loss: 0.0053 - MAE: 0.0465 - val_loss: 0.0014 - val_MAE: 0.0288\n",
            "Epoch 83/200\n",
            "53/53 [==============================] - 0s 2ms/step - loss: 0.0050 - MAE: 0.0462 - val_loss: 0.0014 - val_MAE: 0.0292\n",
            "Epoch 84/200\n",
            "53/53 [==============================] - 0s 2ms/step - loss: 0.0053 - MAE: 0.0490 - val_loss: 0.0012 - val_MAE: 0.0293\n",
            "Epoch 85/200\n",
            "53/53 [==============================] - 0s 2ms/step - loss: 0.0053 - MAE: 0.0472 - val_loss: 0.0013 - val_MAE: 0.0291\n",
            "Epoch 86/200\n",
            "53/53 [==============================] - 0s 2ms/step - loss: 0.0051 - MAE: 0.0460 - val_loss: 0.0010 - val_MAE: 0.0254\n",
            "Epoch 87/200\n",
            "53/53 [==============================] - 0s 2ms/step - loss: 0.0050 - MAE: 0.0452 - val_loss: 0.0012 - val_MAE: 0.0284\n",
            "Epoch 88/200\n",
            "53/53 [==============================] - 0s 2ms/step - loss: 0.0050 - MAE: 0.0452 - val_loss: 0.0014 - val_MAE: 0.0293\n",
            "Epoch 89/200\n",
            "53/53 [==============================] - 0s 2ms/step - loss: 0.0051 - MAE: 0.0464 - val_loss: 0.0010 - val_MAE: 0.0264\n",
            "Epoch 90/200\n",
            "53/53 [==============================] - 0s 2ms/step - loss: 0.0050 - MAE: 0.0455 - val_loss: 0.0013 - val_MAE: 0.0280\n",
            "Epoch 91/200\n",
            "53/53 [==============================] - 0s 2ms/step - loss: 0.0048 - MAE: 0.0435 - val_loss: 0.0011 - val_MAE: 0.0269\n",
            "Epoch 92/200\n",
            "53/53 [==============================] - 0s 2ms/step - loss: 0.0050 - MAE: 0.0434 - val_loss: 0.0011 - val_MAE: 0.0271\n",
            "Epoch 93/200\n",
            "53/53 [==============================] - 0s 2ms/step - loss: 0.0055 - MAE: 0.0522 - val_loss: 0.0018 - val_MAE: 0.0316\n",
            "Epoch 94/200\n",
            "53/53 [==============================] - 0s 2ms/step - loss: 0.0047 - MAE: 0.0459 - val_loss: 0.0011 - val_MAE: 0.0257\n",
            "Epoch 95/200\n",
            "53/53 [==============================] - 0s 2ms/step - loss: 0.0049 - MAE: 0.0452 - val_loss: 0.0024 - val_MAE: 0.0390\n",
            "Epoch 96/200\n",
            "53/53 [==============================] - 0s 2ms/step - loss: 0.0051 - MAE: 0.0444 - val_loss: 0.0012 - val_MAE: 0.0279\n",
            "Epoch 97/200\n",
            "53/53 [==============================] - 0s 2ms/step - loss: 0.0052 - MAE: 0.0452 - val_loss: 0.0016 - val_MAE: 0.0312\n",
            "Epoch 98/200\n",
            "53/53 [==============================] - 0s 2ms/step - loss: 0.0048 - MAE: 0.0437 - val_loss: 0.0014 - val_MAE: 0.0322\n",
            "Epoch 99/200\n",
            "53/53 [==============================] - 0s 2ms/step - loss: 0.0055 - MAE: 0.0466 - val_loss: 0.0027 - val_MAE: 0.0429\n",
            "Epoch 100/200\n",
            "53/53 [==============================] - 0s 2ms/step - loss: 0.0050 - MAE: 0.0466 - val_loss: 0.0014 - val_MAE: 0.0313\n",
            "Epoch 101/200\n",
            "53/53 [==============================] - 0s 2ms/step - loss: 0.0053 - MAE: 0.0471 - val_loss: 0.0015 - val_MAE: 0.0318\n",
            "Epoch 102/200\n",
            "53/53 [==============================] - 0s 2ms/step - loss: 0.0052 - MAE: 0.0468 - val_loss: 0.0016 - val_MAE: 0.0347\n",
            "Epoch 103/200\n",
            "53/53 [==============================] - 0s 2ms/step - loss: 0.0049 - MAE: 0.0440 - val_loss: 0.0012 - val_MAE: 0.0293\n",
            "Epoch 104/200\n",
            "53/53 [==============================] - 0s 2ms/step - loss: 0.0050 - MAE: 0.0440 - val_loss: 0.0022 - val_MAE: 0.0369\n",
            "Epoch 105/200\n",
            "53/53 [==============================] - 0s 2ms/step - loss: 0.0046 - MAE: 0.0421 - val_loss: 0.0013 - val_MAE: 0.0300\n",
            "Epoch 106/200\n",
            "53/53 [==============================] - 0s 2ms/step - loss: 0.0051 - MAE: 0.0479 - val_loss: 0.0031 - val_MAE: 0.0480\n",
            "Epoch 107/200\n",
            "53/53 [==============================] - 0s 2ms/step - loss: 0.0047 - MAE: 0.0467 - val_loss: 0.0011 - val_MAE: 0.0268\n",
            "Epoch 108/200\n",
            "53/53 [==============================] - 0s 2ms/step - loss: 0.0049 - MAE: 0.0451 - val_loss: 0.0026 - val_MAE: 0.0446\n",
            "Epoch 109/200\n",
            "53/53 [==============================] - 0s 2ms/step - loss: 0.0046 - MAE: 0.0445 - val_loss: 0.0013 - val_MAE: 0.0276\n",
            "Epoch 110/200\n",
            "53/53 [==============================] - 0s 2ms/step - loss: 0.0051 - MAE: 0.0474 - val_loss: 0.0013 - val_MAE: 0.0307\n",
            "Epoch 111/200\n",
            "53/53 [==============================] - 0s 2ms/step - loss: 0.0048 - MAE: 0.0469 - val_loss: 0.0030 - val_MAE: 0.0427\n",
            "Epoch 112/200\n",
            "53/53 [==============================] - 0s 2ms/step - loss: 0.0056 - MAE: 0.0475 - val_loss: 0.0014 - val_MAE: 0.0295\n",
            "Epoch 113/200\n",
            "53/53 [==============================] - 0s 2ms/step - loss: 0.0047 - MAE: 0.0436 - val_loss: 0.0023 - val_MAE: 0.0369\n",
            "Epoch 114/200\n",
            "53/53 [==============================] - 0s 1ms/step - loss: 0.0049 - MAE: 0.0444 - val_loss: 0.0020 - val_MAE: 0.0375\n",
            "Epoch 115/200\n",
            "53/53 [==============================] - 0s 2ms/step - loss: 0.0046 - MAE: 0.0431 - val_loss: 0.0020 - val_MAE: 0.0353\n",
            "Epoch 116/200\n",
            "53/53 [==============================] - 0s 2ms/step - loss: 0.0051 - MAE: 0.0447 - val_loss: 0.0021 - val_MAE: 0.0371\n",
            "Epoch 117/200\n",
            "53/53 [==============================] - 0s 2ms/step - loss: 0.0052 - MAE: 0.0469 - val_loss: 0.0030 - val_MAE: 0.0436\n",
            "Epoch 118/200\n",
            "53/53 [==============================] - 0s 1ms/step - loss: 0.0051 - MAE: 0.0453 - val_loss: 0.0022 - val_MAE: 0.0381\n",
            "Epoch 119/200\n",
            "53/53 [==============================] - 0s 2ms/step - loss: 0.0048 - MAE: 0.0421 - val_loss: 0.0024 - val_MAE: 0.0362\n",
            "Epoch 120/200\n",
            "53/53 [==============================] - 0s 2ms/step - loss: 0.0047 - MAE: 0.0449 - val_loss: 0.0013 - val_MAE: 0.0294\n",
            "Epoch 121/200\n",
            "53/53 [==============================] - 0s 2ms/step - loss: 0.0046 - MAE: 0.0426 - val_loss: 0.0015 - val_MAE: 0.0341\n",
            "Epoch 122/200\n",
            "53/53 [==============================] - 0s 2ms/step - loss: 0.0050 - MAE: 0.0463 - val_loss: 0.0028 - val_MAE: 0.0446\n",
            "Epoch 123/200\n",
            "53/53 [==============================] - 0s 2ms/step - loss: 0.0050 - MAE: 0.0437 - val_loss: 0.0018 - val_MAE: 0.0311\n",
            "Epoch 124/200\n",
            "53/53 [==============================] - 0s 2ms/step - loss: 0.0051 - MAE: 0.0470 - val_loss: 0.0018 - val_MAE: 0.0335\n",
            "Epoch 125/200\n",
            "53/53 [==============================] - 0s 2ms/step - loss: 0.0046 - MAE: 0.0414 - val_loss: 0.0012 - val_MAE: 0.0279\n",
            "Epoch 126/200\n",
            "53/53 [==============================] - 0s 2ms/step - loss: 0.0047 - MAE: 0.0423 - val_loss: 0.0013 - val_MAE: 0.0276\n",
            "Epoch 127/200\n",
            "53/53 [==============================] - 0s 2ms/step - loss: 0.0047 - MAE: 0.0436 - val_loss: 0.0020 - val_MAE: 0.0363\n",
            "Epoch 128/200\n",
            "53/53 [==============================] - 0s 3ms/step - loss: 0.0047 - MAE: 0.0436 - val_loss: 0.0015 - val_MAE: 0.0330\n",
            "Epoch 129/200\n",
            "53/53 [==============================] - 0s 2ms/step - loss: 0.0049 - MAE: 0.0453 - val_loss: 0.0011 - val_MAE: 0.0268\n",
            "Epoch 130/200\n",
            "53/53 [==============================] - 0s 1ms/step - loss: 0.0046 - MAE: 0.0419 - val_loss: 0.0024 - val_MAE: 0.0414\n",
            "Epoch 131/200\n",
            "53/53 [==============================] - 0s 2ms/step - loss: 0.0044 - MAE: 0.0405 - val_loss: 0.0012 - val_MAE: 0.0292\n",
            "Epoch 132/200\n",
            "53/53 [==============================] - 0s 2ms/step - loss: 0.0044 - MAE: 0.0417 - val_loss: 0.0023 - val_MAE: 0.0389\n",
            "Epoch 133/200\n",
            "53/53 [==============================] - 0s 1ms/step - loss: 0.0048 - MAE: 0.0446 - val_loss: 0.0016 - val_MAE: 0.0302\n",
            "Epoch 134/200\n",
            "53/53 [==============================] - 0s 2ms/step - loss: 0.0044 - MAE: 0.0391 - val_loss: 0.0022 - val_MAE: 0.0384\n",
            "Epoch 135/200\n",
            "53/53 [==============================] - 0s 2ms/step - loss: 0.0047 - MAE: 0.0412 - val_loss: 0.0016 - val_MAE: 0.0333\n",
            "Epoch 136/200\n",
            "53/53 [==============================] - 0s 2ms/step - loss: 0.0049 - MAE: 0.0436 - val_loss: 0.0015 - val_MAE: 0.0310\n",
            "Epoch 137/200\n",
            "53/53 [==============================] - 0s 2ms/step - loss: 0.0052 - MAE: 0.0429 - val_loss: 0.0013 - val_MAE: 0.0289\n",
            "Epoch 138/200\n",
            "53/53 [==============================] - 0s 2ms/step - loss: 0.0047 - MAE: 0.0441 - val_loss: 0.0020 - val_MAE: 0.0362\n",
            "Epoch 139/200\n",
            "53/53 [==============================] - 0s 2ms/step - loss: 0.0046 - MAE: 0.0415 - val_loss: 0.0016 - val_MAE: 0.0317\n",
            "Epoch 140/200\n",
            "53/53 [==============================] - 0s 2ms/step - loss: 0.0046 - MAE: 0.0400 - val_loss: 0.0018 - val_MAE: 0.0365\n",
            "Epoch 141/200\n",
            "53/53 [==============================] - 0s 2ms/step - loss: 0.0048 - MAE: 0.0449 - val_loss: 0.0016 - val_MAE: 0.0311\n",
            "Epoch 142/200\n",
            "53/53 [==============================] - 0s 2ms/step - loss: 0.0046 - MAE: 0.0414 - val_loss: 0.0013 - val_MAE: 0.0288\n",
            "Epoch 143/200\n",
            "53/53 [==============================] - 0s 1ms/step - loss: 0.0048 - MAE: 0.0421 - val_loss: 0.0013 - val_MAE: 0.0302\n",
            "Epoch 144/200\n",
            "53/53 [==============================] - 0s 2ms/step - loss: 0.0046 - MAE: 0.0474 - val_loss: 0.0030 - val_MAE: 0.0462\n",
            "Epoch 145/200\n",
            "53/53 [==============================] - 0s 2ms/step - loss: 0.0048 - MAE: 0.0436 - val_loss: 0.0012 - val_MAE: 0.0269\n",
            "Epoch 146/200\n",
            "53/53 [==============================] - 0s 2ms/step - loss: 0.0047 - MAE: 0.0425 - val_loss: 0.0012 - val_MAE: 0.0292\n",
            "Epoch 147/200\n",
            "53/53 [==============================] - 0s 2ms/step - loss: 0.0054 - MAE: 0.0509 - val_loss: 0.0028 - val_MAE: 0.0406\n",
            "Epoch 148/200\n",
            "53/53 [==============================] - 0s 2ms/step - loss: 0.0046 - MAE: 0.0434 - val_loss: 0.0013 - val_MAE: 0.0295\n",
            "Epoch 149/200\n",
            "53/53 [==============================] - 0s 2ms/step - loss: 0.0045 - MAE: 0.0414 - val_loss: 0.0035 - val_MAE: 0.0478\n",
            "Epoch 150/200\n",
            "53/53 [==============================] - 0s 2ms/step - loss: 0.0053 - MAE: 0.0479 - val_loss: 0.0022 - val_MAE: 0.0391\n",
            "Epoch 151/200\n",
            "53/53 [==============================] - 0s 2ms/step - loss: 0.0047 - MAE: 0.0427 - val_loss: 0.0018 - val_MAE: 0.0340\n",
            "Epoch 152/200\n",
            "53/53 [==============================] - 0s 2ms/step - loss: 0.0045 - MAE: 0.0412 - val_loss: 0.0021 - val_MAE: 0.0385\n",
            "Epoch 153/200\n",
            "53/53 [==============================] - 0s 2ms/step - loss: 0.0048 - MAE: 0.0417 - val_loss: 0.0015 - val_MAE: 0.0324\n",
            "Epoch 154/200\n",
            "53/53 [==============================] - 0s 2ms/step - loss: 0.0046 - MAE: 0.0411 - val_loss: 0.0015 - val_MAE: 0.0324\n",
            "Epoch 155/200\n",
            "53/53 [==============================] - 0s 2ms/step - loss: 0.0047 - MAE: 0.0421 - val_loss: 0.0011 - val_MAE: 0.0271\n",
            "Epoch 156/200\n",
            "53/53 [==============================] - 0s 2ms/step - loss: 0.0044 - MAE: 0.0459 - val_loss: 0.0031 - val_MAE: 0.0460\n",
            "Epoch 157/200\n",
            "53/53 [==============================] - 0s 2ms/step - loss: 0.0050 - MAE: 0.0449 - val_loss: 0.0020 - val_MAE: 0.0338\n",
            "Epoch 158/200\n",
            "53/53 [==============================] - 0s 2ms/step - loss: 0.0046 - MAE: 0.0412 - val_loss: 0.0011 - val_MAE: 0.0276\n",
            "Epoch 159/200\n",
            "53/53 [==============================] - 0s 2ms/step - loss: 0.0046 - MAE: 0.0426 - val_loss: 0.0011 - val_MAE: 0.0269\n",
            "Epoch 160/200\n",
            "53/53 [==============================] - 0s 2ms/step - loss: 0.0042 - MAE: 0.0415 - val_loss: 0.0032 - val_MAE: 0.0497\n",
            "Epoch 161/200\n",
            "53/53 [==============================] - 0s 2ms/step - loss: 0.0046 - MAE: 0.0457 - val_loss: 0.0014 - val_MAE: 0.0290\n",
            "Epoch 162/200\n",
            "53/53 [==============================] - 0s 2ms/step - loss: 0.0049 - MAE: 0.0446 - val_loss: 0.0017 - val_MAE: 0.0334\n",
            "Epoch 163/200\n",
            "53/53 [==============================] - 0s 2ms/step - loss: 0.0045 - MAE: 0.0408 - val_loss: 0.0021 - val_MAE: 0.0386\n",
            "Epoch 164/200\n",
            "53/53 [==============================] - 0s 2ms/step - loss: 0.0047 - MAE: 0.0395 - val_loss: 0.0013 - val_MAE: 0.0297\n",
            "Epoch 165/200\n",
            "53/53 [==============================] - 0s 2ms/step - loss: 0.0046 - MAE: 0.0428 - val_loss: 0.0012 - val_MAE: 0.0305\n",
            "Epoch 166/200\n",
            "53/53 [==============================] - 0s 2ms/step - loss: 0.0048 - MAE: 0.0410 - val_loss: 0.0015 - val_MAE: 0.0330\n",
            "Epoch 167/200\n",
            "53/53 [==============================] - 0s 2ms/step - loss: 0.0052 - MAE: 0.0454 - val_loss: 0.0016 - val_MAE: 0.0328\n",
            "Epoch 168/200\n",
            "53/53 [==============================] - 0s 2ms/step - loss: 0.0049 - MAE: 0.0439 - val_loss: 0.0016 - val_MAE: 0.0350\n",
            "Epoch 169/200\n",
            "53/53 [==============================] - 0s 2ms/step - loss: 0.0047 - MAE: 0.0462 - val_loss: 0.0010 - val_MAE: 0.0255\n",
            "Epoch 170/200\n",
            "53/53 [==============================] - 0s 2ms/step - loss: 0.0049 - MAE: 0.0436 - val_loss: 0.0012 - val_MAE: 0.0278\n",
            "Epoch 171/200\n",
            "53/53 [==============================] - 0s 2ms/step - loss: 0.0046 - MAE: 0.0421 - val_loss: 9.4900e-04 - val_MAE: 0.0241\n",
            "Epoch 172/200\n",
            "53/53 [==============================] - 0s 2ms/step - loss: 0.0047 - MAE: 0.0439 - val_loss: 0.0025 - val_MAE: 0.0393\n",
            "Epoch 173/200\n",
            "53/53 [==============================] - 0s 2ms/step - loss: 0.0045 - MAE: 0.0423 - val_loss: 9.9496e-04 - val_MAE: 0.0244\n",
            "Epoch 174/200\n",
            "53/53 [==============================] - 0s 1ms/step - loss: 0.0047 - MAE: 0.0435 - val_loss: 0.0018 - val_MAE: 0.0354\n",
            "Epoch 175/200\n",
            "53/53 [==============================] - 0s 2ms/step - loss: 0.0045 - MAE: 0.0392 - val_loss: 0.0013 - val_MAE: 0.0303\n",
            "Epoch 176/200\n",
            "53/53 [==============================] - 0s 2ms/step - loss: 0.0044 - MAE: 0.0400 - val_loss: 0.0013 - val_MAE: 0.0300\n",
            "Epoch 177/200\n",
            "53/53 [==============================] - 0s 2ms/step - loss: 0.0046 - MAE: 0.0404 - val_loss: 0.0023 - val_MAE: 0.0406\n",
            "Epoch 178/200\n",
            "53/53 [==============================] - 0s 2ms/step - loss: 0.0047 - MAE: 0.0426 - val_loss: 0.0018 - val_MAE: 0.0358\n",
            "Epoch 179/200\n",
            "53/53 [==============================] - 0s 2ms/step - loss: 0.0044 - MAE: 0.0407 - val_loss: 0.0013 - val_MAE: 0.0295\n",
            "Epoch 180/200\n",
            "53/53 [==============================] - 0s 2ms/step - loss: 0.0047 - MAE: 0.0419 - val_loss: 0.0025 - val_MAE: 0.0412\n",
            "Epoch 181/200\n",
            "53/53 [==============================] - 0s 2ms/step - loss: 0.0047 - MAE: 0.0402 - val_loss: 0.0010 - val_MAE: 0.0255\n",
            "Epoch 182/200\n",
            "53/53 [==============================] - 0s 2ms/step - loss: 0.0045 - MAE: 0.0405 - val_loss: 0.0014 - val_MAE: 0.0313\n",
            "Epoch 183/200\n",
            "53/53 [==============================] - 0s 2ms/step - loss: 0.0046 - MAE: 0.0422 - val_loss: 0.0015 - val_MAE: 0.0321\n",
            "Epoch 184/200\n",
            "53/53 [==============================] - 0s 2ms/step - loss: 0.0044 - MAE: 0.0424 - val_loss: 0.0024 - val_MAE: 0.0407\n",
            "Epoch 185/200\n",
            "53/53 [==============================] - 0s 2ms/step - loss: 0.0044 - MAE: 0.0393 - val_loss: 0.0010 - val_MAE: 0.0265\n",
            "Epoch 186/200\n",
            "53/53 [==============================] - 0s 2ms/step - loss: 0.0046 - MAE: 0.0395 - val_loss: 0.0020 - val_MAE: 0.0383\n",
            "Epoch 187/200\n",
            "53/53 [==============================] - 0s 2ms/step - loss: 0.0044 - MAE: 0.0405 - val_loss: 0.0014 - val_MAE: 0.0317\n",
            "Epoch 188/200\n",
            "53/53 [==============================] - 0s 2ms/step - loss: 0.0044 - MAE: 0.0396 - val_loss: 0.0012 - val_MAE: 0.0292\n",
            "Epoch 189/200\n",
            "53/53 [==============================] - 0s 2ms/step - loss: 0.0046 - MAE: 0.0396 - val_loss: 0.0021 - val_MAE: 0.0395\n",
            "Epoch 190/200\n",
            "53/53 [==============================] - 0s 2ms/step - loss: 0.0047 - MAE: 0.0447 - val_loss: 0.0017 - val_MAE: 0.0347\n",
            "Epoch 191/200\n",
            "53/53 [==============================] - 0s 1ms/step - loss: 0.0042 - MAE: 0.0373 - val_loss: 0.0013 - val_MAE: 0.0295\n",
            "Epoch 192/200\n",
            "53/53 [==============================] - 0s 2ms/step - loss: 0.0042 - MAE: 0.0384 - val_loss: 0.0019 - val_MAE: 0.0372\n",
            "Epoch 193/200\n",
            "53/53 [==============================] - 0s 2ms/step - loss: 0.0043 - MAE: 0.0397 - val_loss: 0.0010 - val_MAE: 0.0259\n",
            "Epoch 194/200\n",
            "53/53 [==============================] - 0s 2ms/step - loss: 0.0044 - MAE: 0.0379 - val_loss: 0.0010 - val_MAE: 0.0257\n",
            "Epoch 195/200\n",
            "53/53 [==============================] - 0s 3ms/step - loss: 0.0046 - MAE: 0.0464 - val_loss: 0.0023 - val_MAE: 0.0424\n",
            "Epoch 196/200\n",
            "53/53 [==============================] - 0s 2ms/step - loss: 0.0042 - MAE: 0.0397 - val_loss: 0.0010 - val_MAE: 0.0253\n",
            "Epoch 197/200\n",
            "53/53 [==============================] - 0s 2ms/step - loss: 0.0045 - MAE: 0.0473 - val_loss: 0.0039 - val_MAE: 0.0514\n",
            "Epoch 198/200\n",
            "53/53 [==============================] - 0s 2ms/step - loss: 0.0044 - MAE: 0.0428 - val_loss: 0.0011 - val_MAE: 0.0265\n",
            "Epoch 199/200\n",
            "53/53 [==============================] - 0s 2ms/step - loss: 0.0048 - MAE: 0.0478 - val_loss: 0.0021 - val_MAE: 0.0371\n",
            "Epoch 200/200\n",
            "53/53 [==============================] - 0s 2ms/step - loss: 0.0051 - MAE: 0.0459 - val_loss: 0.0024 - val_MAE: 0.0383\n"
          ]
        }
      ],
      "source": [
        "history = reg.fit(x_train, y_train ,batch_size = 1, epochs = 200, verbose=1, validation_data=(x_test, y_test))"
      ]
    },
    {
      "cell_type": "code",
      "execution_count": null,
      "metadata": {
        "id": "Cu47dlK4e6ux"
      },
      "outputs": [],
      "source": [
        "#reg.evaluate(x_test, y_test)"
      ]
    },
    {
      "cell_type": "code",
      "execution_count": null,
      "metadata": {
        "colab": {
          "base_uri": "https://localhost:8080/"
        },
        "id": "iX03WcurfkVo",
        "outputId": "1b0b075a-9e3c-4e0e-98b2-7c657807b7cd"
      },
      "outputs": [
        {
          "name": "stdout",
          "output_type": "stream",
          "text": [
            "1/1 [==============================] - 0s 108ms/step\n",
            "2/2 [==============================] - 0s 2ms/step\n"
          ]
        }
      ],
      "source": [
        "y_pred=reg.predict(x_test)\n",
        "y_pred_train = reg.predict(x_train)"
      ]
    },
    {
      "cell_type": "code",
      "execution_count": null,
      "metadata": {
        "colab": {
          "base_uri": "https://localhost:8080/"
        },
        "id": "fRP64SRqfoHB",
        "outputId": "5932ba5a-eeba-40ff-8dcf-b9d2a4969a23"
      },
      "outputs": [
        {
          "name": "stdout",
          "output_type": "stream",
          "text": [
            "26   1.267352185090\n",
            "5    1.118686868687\n",
            "48   1.104294478528\n",
            "40   0.962585034014\n",
            "22   1.081140350877\n",
            "65   1.027554535017\n",
            "33   1.101572817865\n",
            "19   1.163170163170\n",
            "14   1.324701195219\n",
            "60   1.005720823799\n",
            "13   1.321305841924\n",
            "43   1.047040971168\n",
            "18   1.209677419355\n",
            "54   1.056976744186\n",
            "Name: E, dtype: float64\n",
            "[[1.1563106  1.0922308  1.060587   1.0045841  1.0256792  1.0125126\n",
            "  1.0269114  1.1279764  1.3491008  0.99596345 1.3068907  0.97372085\n",
            "  1.2192128  1.0562345 ]]\n"
          ]
        }
      ],
      "source": [
        "print(y_test)\n",
        "print(y_pred.T)"
      ]
    },
    {
      "cell_type": "code",
      "execution_count": null,
      "metadata": {
        "colab": {
          "base_uri": "https://localhost:8080/"
        },
        "id": "FNkGIVswP5d1",
        "outputId": "5f03f1b5-1877-4aac-bb9a-1b42a75b91d6"
      },
      "outputs": [
        {
          "name": "stdout",
          "output_type": "stream",
          "text": [
            "78.63071004737373\n"
          ]
        }
      ],
      "source": [
        "Accuracy_percent = (r2_score(y_train, y_pred_train ))*100\n",
        "print(Accuracy_percent)"
      ]
    },
    {
      "cell_type": "code",
      "execution_count": null,
      "metadata": {
        "colab": {
          "base_uri": "https://localhost:8080/"
        },
        "id": "61Lxars9fp5p",
        "outputId": "b0b30310-5911-452e-e6bf-093c13437d4c"
      },
      "outputs": [
        {
          "name": "stdout",
          "output_type": "stream",
          "text": [
            "80.5855935256746\n"
          ]
        }
      ],
      "source": [
        "Accuracy_percent = (r2_score(y_test, y_pred))*100\n",
        "print(Accuracy_percent)"
      ]
    },
    {
      "cell_type": "code",
      "execution_count": null,
      "metadata": {
        "colab": {
          "base_uri": "https://localhost:8080/",
          "height": 300
        },
        "id": "l7ARc6MpTBq1",
        "outputId": "99f19f1e-c9bc-4e92-9625-49a09eea112d"
      },
      "outputs": [
        {
          "name": "stdout",
          "output_type": "stream",
          "text": [
            "1/1 [==============================] - 0s 108ms/step - loss: 0.0024 - MAE: 0.0383\n"
          ]
        },
        {
          "data": {
            "text/plain": [
              "[<matplotlib.lines.Line2D at 0x7f5d90409c40>]"
            ]
          },
          "execution_count": 25,
          "metadata": {},
          "output_type": "execute_result"
        },
        {
          "data": {
            "image/png": "[encoded data removed]",
            "text/plain": [
              "<Figure size 640x480 with 1 Axes>"
            ]
          },
          "metadata": {},
          "output_type": "display_data"
        }
      ],
      "source": [
        "hist = reg.evaluate(x=x_test, y=y_test)\n",
        "plt.plot(history.history['loss'])\n",
        "plt.plot(history.history['val_loss'])"
      ]
    },
    {
      "cell_type": "code",
      "execution_count": null,
      "metadata": {
        "id": "KZ6AAQtwftgH"
      },
      "outputs": [],
      "source": [
        "wt,bs=[],[]\n",
        "for layerNum, layer in enumerate(reg.layers):\n",
        "    weights = layer.get_weights()[0]\n",
        "    biases = layer.get_weights()[1]\n",
        "    wt.append(weights)\n",
        "    bs.append(biases)\n",
        "P = wt[0].T\n",
        "Q = wt[1].T\n",
        "R = wt[2].T\n",
        "b1 = bs[0]\n",
        "b2 = bs[1]\n",
        "b3 = bs[2]"
      ]
    },
    {
      "cell_type": "code",
      "execution_count": null,
      "metadata": {
        "colab": {
          "base_uri": "https://localhost:8080/"
        },
        "id": "6N_2ri0l0J_J",
        "outputId": "786e91d5-7100-4bad-ca10-7d60ad6bf594"
      },
      "outputs": [
        {
          "data": {
            "text/latex": [
              "\\begin{align*}\n",
              "      f(x) = R\\times\\Big(max\\big(0, \\big\\{Q\\times max(0, P\\times x + b_{1}\\big) + b_{2}\\big\\}\\big)\\Big) + b_{3}\n",
              "\\end{align*}"
            ],
            "text/plain": [
              "<IPython.core.display.Latex object>"
            ]
          },
          "metadata": {},
          "output_type": "display_data"
        },
        {
          "data": {
            "text/latex": [
              "\\begin{align*} Where, \\end{align*}"
            ],
            "text/plain": [
              "<IPython.core.display.Latex object>"
            ]
          },
          "metadata": {},
          "output_type": "display_data"
        },
        {
          "data": {
            "text/latex": [
              "\\begin{align*} \n",
              "\\begin{align*} \n",
              "P = \\begin{bmatrix} \n",
              " -0.635 & 0.814 & -0.135 & 0.046 & 0.047 & \\\\\n",
              " -0.575 & 0.058 & 0.489 & 0.460 & -0.169 & \\\\\n",
              " 0.446 & 0.410 & 0.688 & -0.621 & 0.873 & \\\\\n",
              " 0.228 & -0.056 & 0.420 & -1.059 & 0.245 & \\\\\n",
              " 0.675 & 0.037 & 0.408 & -0.082 & 0.488 & \\\\\n",
              "\\end{bmatrix}\\end{align*}, & \\quad\\begin{align*} \n",
              "b1 = \\begin{bmatrix} \n",
              " 0.037 & \\\\\n",
              " 0.070 & \\\\\n",
              " 0.082 & \\\\\n",
              " 0.298 & \\\\\n",
              " 0.041 & \\\\\n",
              "\\end{bmatrix}\\end{align*}\\end{align*}"
            ],
            "text/plain": [
              "<IPython.core.display.Latex object>"
            ]
          },
          "metadata": {},
          "output_type": "display_data"
        },
        {
          "data": {
            "text/latex": [
              "\\begin{align*} \n",
              "\\begin{align*} \n",
              "Q = \\begin{bmatrix} \n",
              " -0.201 & -0.117 & 0.253 & 0.440 & 1.001 & \\\\\n",
              " 0.196 & -0.648 & 0.258 & -0.339 & -0.330 & \\\\\n",
              " 0.391 & 0.176 & -0.186 & 0.874 & 0.171 & \\\\\n",
              "\\end{bmatrix}\\end{align*}, & \\quad\\begin{align*} \n",
              "b2 = \\begin{bmatrix} \n",
              " -0.372 & \\\\\n",
              " -0.034 & \\\\\n",
              " 0.369 & \\\\\n",
              "\\end{bmatrix}\\end{align*}\\end{align*}"
            ],
            "text/plain": [
              "<IPython.core.display.Latex object>"
            ]
          },
          "metadata": {},
          "output_type": "display_data"
        },
        {
          "data": {
            "text/latex": [
              "\\begin{align*} \n",
              "\\begin{align*} \n",
              "R = \\begin{bmatrix} \n",
              " -0.608 & -0.694 & 0.877 & \\\\\n",
              "\\end{bmatrix}\\end{align*}, & \\quad\\begin{align*} \n",
              "b3 = \\begin{bmatrix} \n",
              " 0.362 & \\\\\n",
              "\\end{bmatrix}\\end{align*}\\end{align*}"
            ],
            "text/plain": [
              "<IPython.core.display.Latex object>"
            ]
          },
          "metadata": {},
          "output_type": "display_data"
        }
      ],
      "source": [
        "from IPython.display import display, Math, Latex\n",
        "\n",
        "display(Latex(r\"\"\"\\begin{align*}\n",
        "      f(x) = R\\times\\Big(max\\big(0, \\big\\{Q\\times max(0, P\\times x + b_{1}\\big) + b_{2}\\big\\}\\big)\\Big) + b_{3}\n",
        "\\end{align*}\"\"\"))\n",
        "display(Latex(r\"\"\"\\begin{align*} Where, \\end{align*}\"\"\"))\n",
        "def array_to_bmatrix(var, array):\n",
        "    bgn = '\\\\begin{align*} \\n'\n",
        "    bgn1 = var + ' = '\n",
        "    begin = '\\\\begin{bmatrix} \\n'\n",
        "    data = ''\n",
        "    for line in array:\n",
        "        if line.size == 1:\n",
        "            data = data + ' %.3f &'%line\n",
        "            data = data + r' \\\\'\n",
        "            data = data + '\\n'\n",
        "            continue\n",
        "        for element in line:\n",
        "            data = data + ' %.3f &'%element\n",
        "\n",
        "        data = data + r' \\\\'\n",
        "        data = data + '\\n'\n",
        "    end = '\\end{bmatrix}'\n",
        "    end1 = '\\end{align*}'\n",
        "    return (bgn + bgn1 + begin + data + end+end1)\n",
        "\n",
        "def show(a,b):\n",
        "    bgn = '\\\\begin{align*} \\n'\n",
        "    bd = ''\n",
        "    bd = bd + a + ', & \\quad'+ b\n",
        "\n",
        "    # body = body + b3l + ' & ' + b2l\n",
        "    end =  '\\end{align*}'\n",
        "    return (bgn+bd+end)\n",
        "\n",
        "\n",
        "Rl = array_to_bmatrix('R',R); b3l = array_to_bmatrix('b3', b3)\n",
        "Ql = array_to_bmatrix('Q',Q); b2l = array_to_bmatrix('b2', b2)\n",
        "Pl = array_to_bmatrix('P',P); b1l = array_to_bmatrix('b1', b1)\n",
        "\n",
        "display(Latex(show(Pl,b1l)))\n",
        "display(Latex(show(Ql,b2l)))\n",
        "display(Latex(show(Rl,b3l)))\n",
        "\n"
      ]
    },
    {
      "cell_type": "code",
      "execution_count": null,
      "metadata": {
        "colab": {
          "base_uri": "https://localhost:8080/",
          "height": 660
        },
        "id": "hyAwzLRi0Wdt",
        "outputId": "77b88595-a898-4445-c9c6-411ff7334863"
      },
      "outputs": [
        {
          "data": {
            "text/plain": [
              "Text(0.5, 1.0, 'Combined D2')"
            ]
          },
          "execution_count": 28,
          "metadata": {},
          "output_type": "execute_result"
        },
        {
          "data": {
            "image/png": "[encoded data removed]",
            "text/plain": [
              "<Figure size 1000x1000 with 1 Axes>"
            ]
          },
          "metadata": {},
          "output_type": "display_data"
        }
      ],
      "source": [
        "plt.figure(figsize=(10,10))\n",
        "plt.scatter(y_test, y_pred, color = 'crimson')\n",
        "plt.plot( [0.5,1.5], [0.5,1.5], color = 'blue')\n",
        "plt.xlabel('True Values', fontsize=20)\n",
        "plt.ylabel('Predictions', fontsize=20)\n",
        "plt.title('Combined D2', fontsize=30)"
      ]
    },
    {
      "cell_type": "code",
      "execution_count": null,
      "metadata": {
        "id": "DdEoVNJmP-kz",
        "outputId": "6909ca58-47aa-4ed9-94e9-741f8df05797"
      },
      "outputs": [
        {
          "name": "stdout",
          "output_type": "stream",
          "text": [
            "2.5587093979120255 1.375760480761528 2.1410044878721237 2.5587093979120255 2.5587093979120255\n",
            "percentage :  22.860125266935924 12.291375078847405 19.128249120344826 22.860125266935924 22.860125266935924\n"
          ]
        }
      ],
      "source": [
        "a1_weight=0\n",
        "b_weight=0\n",
        "c_weight=0\n",
        "a2_weight=0\n",
        "a3_weight=0\n",
        "for i in range(len(P)):\n",
        "    # a_weight += P[i][0]\n",
        "    # b_weight+= P[i][1]\n",
        "    # c_weight+= P[i][2]\n",
        "\n",
        "    a1_weight += abs(P[i][0])\n",
        "    b_weight+= abs(P[i][1])\n",
        "    c_weight+= abs(P[i][2])\n",
        "    a2_weight += abs(P[i][0])\n",
        "    a3_weight += abs(P[i][0])\n",
        "\n",
        "print(a1_weight,b_weight, c_weight, a2_weight, a3_weight)\n",
        "sum=a1_weight+b_weight+c_weight+a2_weight+a3_weight\n",
        "\n",
        "print(\"percentage : \", a1_weight*100/sum, b_weight*100/sum, c_weight*100/sum, a2_weight*100/sum, a3_weight*100/sum)"
      ]
    },
    {
      "cell_type": "code",
      "execution_count": null,
      "metadata": {
        "id": "-YTKcwl5o5rG",
        "outputId": "72459549-8aa3-4a81-be95-a87df96b0a19"
      },
      "outputs": [
        {
          "name": "stdout",
          "output_type": "stream",
          "text": [
            "1/1 [==============================] - 0s 22ms/step\n",
            "1/1 [==============================] - 0s 18ms/step\n",
            "1/1 [==============================] - 0s 19ms/step\n",
            "1/1 [==============================] - 0s 18ms/step\n",
            "1/1 [==============================] - 0s 19ms/step\n",
            "1/1 [==============================] - 0s 18ms/step\n",
            "1/1 [==============================] - 0s 19ms/step\n",
            "1/1 [==============================] - 0s 20ms/step\n",
            "1/1 [==============================] - 0s 19ms/step\n",
            "1/1 [==============================] - 0s 18ms/step\n",
            "1/1 [==============================] - 0s 19ms/step\n",
            "1/1 [==============================] - 0s 20ms/step\n",
            "1/1 [==============================] - 0s 17ms/step\n",
            "1/1 [==============================] - 0s 18ms/step\n",
            "1/1 [==============================] - 0s 18ms/step\n",
            "1/1 [==============================] - 0s 19ms/step\n",
            "1/1 [==============================] - 0s 20ms/step\n",
            "1/1 [==============================] - 0s 20ms/step\n",
            "1/1 [==============================] - 0s 18ms/step\n",
            "1/1 [==============================] - 0s 18ms/step\n",
            "1/1 [==============================] - 0s 18ms/step\n",
            "1/1 [==============================] - 0s 20ms/step\n",
            "1/1 [==============================] - 0s 18ms/step\n",
            "1/1 [==============================] - 0s 19ms/step\n",
            "1/1 [==============================] - 0s 19ms/step\n",
            "1/1 [==============================] - 0s 18ms/step\n",
            "[14.09629713  4.93393286  2.84196774  6.49035895  6.12014342]\n"
          ]
        },
        {
          "data": {
            "image/png": "[encoded data removed]",
            "text/plain": [
              "<Figure size 640x480 with 1 Axes>"
            ]
          },
          "metadata": {},
          "output_type": "display_data"
        }
      ],
      "source": [
        "\n",
        "import eli5\n",
        "import sklearn\n",
        "from eli5.permutation_importance import get_score_importances\n",
        "\n",
        "def score(x,y):\n",
        "    y_pred = reg.predict(x)\n",
        "    return r2_score(y, y_pred)\n",
        "\n",
        "base_score, score_decreases = get_score_importances(score, np.array(x_test), y_test,)\n",
        "\n",
        "feature_importances = np.mean(score_decreases, axis=0)\n",
        "print(feature_importances)\n",
        "\n",
        "sum = feature_importances[0]+feature_importances[1]+feature_importances[2]\n",
        "a1_percent = feature_importances[0]/sum\n",
        "b_percent = feature_importances[1]/sum\n",
        "c_percent = feature_importances[2]/sum\n",
        "a2_percent = feature_importances[3]/sum\n",
        "a3_percent = feature_importances[4]/sum\n",
        "\n",
        "\n",
        "\n",
        "_features = ['a1','b','c','a2','a3']\n",
        "importance = [a1_percent, b_percent, c_percent, a2_percent, a3_percent]\n",
        "plt.barh(_features, importance)\n",
        "plt.ylabel(\"Features\")\n",
        "plt.title(\"Feature Importance\")\n",
        "plt.xlabel(\"Importance\")\n",
        "plt.show()"
      ]
    }
  ],
  "metadata": {
    "accelerator": "GPU",
    "colab": {
      "provenance": []
    },
    "gpuClass": "standard",
    "kernelspec": {
      "display_name": "Python 3",
      "language": "python",
      "name": "python3"
    },
    "language_info": {
      "codemirror_mode": {
        "name": "ipython",
        "version": 3
      },
      "file_extension": ".py",
      "mimetype": "text/x-python",
      "name": "python",
      "nbconvert_exporter": "python",
      "pygments_lexer": "ipython3",
      "version": "3.8.10"
    },
    "vscode": {
      "interpreter": {
        "hash": "e7370f93d1d0cde622a1f8e1c04877d8463912d04d973331ad4851f04de6915a"
      }
    }
  },
  "nbformat": 4,
  "nbformat_minor": 0
}